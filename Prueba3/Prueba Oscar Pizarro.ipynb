{
 "cells": [
  {
   "cell_type": "markdown",
   "metadata": {},
   "source": [
    "# Prueba Practica\n",
    "\n",
    "Se buscar encontrar la eficiencia de la generación de números pseudo-aletorios a través de los métodos de cuadrados medios y congruencia lineal, para ello se debe seguir el siguiente proceso:\n",
    "\n",
    "1. A traves de la misma api generar una semilla diferente. \n",
    "\n",
    "2. Encontrar el numero de iteraciones hasta que se repita uno de sus datos.\n",
    "\n",
    "3. Generar 100 simulaciones con diferentes semillas.\n",
    "\n",
    "4. Generar un histograma con el resultado obtenidos por cada método.\n",
    "\n",
    "5. Agregar sus conclusiones, opiniones y recomendaciones\n",
    "\n"
   ]
  },
  {
   "cell_type": "markdown",
   "metadata": {},
   "source": [
    "## Cuuadrados  Medios"
   ]
  },
  {
   "cell_type": "code",
   "execution_count": 91,
   "metadata": {},
   "outputs": [
    {
     "name": "stdout",
     "output_type": "stream",
     "text": [
      "[57, 78, 28, 9, 34, 82, 25, 16, 75, 14, 9, 16, 76, 66, 73, 42, 6, 38, 19, 40, 31, 113, 65, 69, 66, 40, 81, 100, 24, 84, 44, 75, 36, 79, 21, 75, 16, 69, 34, 58, 82, 73, 38, 35, 69, 80, 76, 75, 94, 12, 63, 75, 9, 95, 36, 95, 99, 89, 11, 75, 9, 110, 70, 11, 90, 62, 20, 34, 29, 9, 90, 26, 44, 5, 13, 34, 31, 66, 80, 64, 63, 55, 38, 51, 34, 78, 28, 67, 13, 31, 24, 73, 22, 74, 25, 17, 13, 39, 50, 103]\n",
      "\n",
      "----------- HISTOGRAMA -------------\n",
      "\n",
      "Repetidos: [9, 16, 66, 40, 75, 69, 34, 82, 73, 38, 76, 36, 95, 11, 90, 44, 31, 80, 63, 78, 28, 13, 24, 25]\n"
     ]
    },
    {
     "data": {
      "image/png": "[encoded data removed]",
      "text/plain": [
       "<Figure size 432x288 with 1 Axes>"
      ]
     },
     "metadata": {
      "needs_background": "light"
     },
     "output_type": "display_data"
    },
    {
     "name": "stdout",
     "output_type": "stream",
     "text": [
      "Numero     Frecuencia     \n",
      " 9             5           \n",
      " 16            3           \n",
      " 66            3           \n",
      " 40            2           \n",
      " 75            6           \n",
      " 69            3           \n",
      " 34            5           \n",
      " 82            2           \n",
      " 73            3           \n",
      " 38            3           \n",
      " 76            2           \n",
      " 36            2           \n",
      " 95            2           \n",
      " 11            2           \n",
      " 90            2           \n",
      " 44            2           \n",
      " 31            3           \n",
      " 80            2           \n",
      " 63            2           \n",
      " 78            2           \n",
      " 28            2           \n",
      " 13            3           \n",
      " 24            2           \n",
      " 25            2           \n"
     ]
    }
   ],
   "source": [
    "%matplotlib inline\n",
    "from matplotlib import pyplot as plt\n",
    "\n",
    "\n",
    "#Valores iniciales\n",
    "sinicial=35468\n",
    "Digitos=4\n",
    "inter=100\n",
    "\n",
    "\n",
    "iteraciones=[]\n",
    "uno=\"1\"\n",
    "for i in range(0,Digitos):\n",
    "    uno=uno+\"0\"\n",
    "    \n",
    "    \n",
    "    \n",
    "for j in range (inter):\n",
    "    i=1\n",
    "    xn=[]\n",
    "    condicion= True\n",
    "    while condicion:\n",
    "        saux=sinicial\n",
    "        semilla=saux*saux\n",
    "        palabra=str(semilla)\n",
    "        longitud=len(palabra)\n",
    "        ui1=(int((longitud/2))-int((Digitos/2)))\n",
    "        ui2=(int((longitud/2))+int((Digitos/2)))\n",
    "        ui=palabra[int(ui1):int(ui2)]\n",
    "        aleatorio=float(ui)/float(uno)\n",
    "        sinicial=int(ui)\n",
    "        if (i==1):\n",
    "            xn.append(ui)\n",
    "            i=i+1\n",
    "        else:\n",
    "            for x in range(0,len(xn)):\n",
    "                if (xn[x]==ui):\n",
    "                    iteraciones.append(i)\n",
    "                    sinicial=int(xn[0])+100-5\n",
    "                    condicion=False\n",
    "            xn.append(ui)\n",
    "            i=i+1\n",
    "\n",
    "\n",
    "\n",
    "#Calacular los repetidos\n",
    "aux=[]              \n",
    "repetido = []\n",
    "unico = []\n",
    "cont=[]\n",
    "print(iteraciones)\n",
    "def frecuencia(lista,valor):\n",
    "    aux=0\n",
    "    for i in valor:\n",
    "        for j in lista:\n",
    "            if i == j:\n",
    "                aux=aux+1\n",
    "        cont.append(aux)\n",
    "        aux=0\n",
    "    return cont\n",
    "\n",
    "\n",
    "for x in iteraciones:\n",
    "    del aux[:]\n",
    "    if x not in unico:\n",
    "        unico.append(x)\n",
    "    else:\n",
    "        if x not in repetido:\n",
    "            repetido.append(x)\n",
    "            \n",
    "fra=frecuencia(iteraciones,repetido)\n",
    "print('')\n",
    "print('----------- HISTOGRAMA -------------')\n",
    "print('')\n",
    "print('Repetidos:', repetido)\n",
    "\n",
    "plt.bar(range(len(repetido)), cont, edgecolor='red')\n",
    "plt.xticks(range(len(repetido)), repetido, rotation=60)\n",
    "plt.title(\"Cuadrados medios\")\n",
    "plt.ylim(min(cont)-0.5, max(cont)+0.5)\n",
    "plt.show()\n",
    "\n",
    "\n",
    "print('{:^3}{:^20}'.format('Numero','Frecuencia'))\n",
    "for repetido,cont in zip(repetido,cont):\n",
    "    print('{:^4}{:^23}'.format(repetido,cont))"
   ]
  },
  {
   "cell_type": "markdown",
   "metadata": {},
   "source": [
    "## Congruencia lineal"
   ]
  },
  {
   "cell_type": "code",
   "execution_count": 102,
   "metadata": {},
   "outputs": [
    {
     "name": "stdout",
     "output_type": "stream",
     "text": [
      "[2, 4, 2, 3, 5, 11, 2, 7, 4, 5, 2, 17, 2, 10, 5, 2, 11, 23, 3, 21, 7, 4, 4, 29, 5, 16, 5, 11, 17, 13, 2, 10, 10, 7, 5, 9, 4, 22, 11, 5, 23, 47, 5, 22, 21, 17, 7, 53, 4, 21, 4, 10, 29, 59, 5, 6, 16, 4, 9, 7, 11, 12, 17, 23, 13, 71, 3, 13, 10, 5, 10, 31, 2, 40, 5, 5, 9, 83, 2, 17, 22, 29, 11, 89, 6, 7, 23, 16, 47, 37, 9, 49, 22, 12, 21, 101, 2, 18, 7, 5]\n",
      "\n",
      "----------- HISTOGRAMA -------------\n",
      "\n",
      "Repetidos: [2, 4, 5, 11, 3, 7, 17, 10, 23, 22, 21, 29, 16, 9, 13, 6, 47, 12]\n"
     ]
    },
    {
     "data": {
      "image/png": "[encoded data removed]",
      "text/plain": [
       "<Figure size 432x288 with 1 Axes>"
      ]
     },
     "metadata": {
      "needs_background": "light"
     },
     "output_type": "display_data"
    },
    {
     "name": "stdout",
     "output_type": "stream",
     "text": [
      "Numero     Frecuencia     \n",
      " 2            10           \n",
      " 4             8           \n",
      " 5            13           \n",
      " 11            6           \n",
      " 3             3           \n",
      " 7             7           \n",
      " 17            5           \n",
      " 10            6           \n",
      " 23            4           \n",
      " 22            4           \n",
      " 21            4           \n",
      " 29            3           \n",
      " 16            3           \n",
      " 9             4           \n",
      " 13            3           \n",
      " 6             2           \n",
      " 47            2           \n",
      " 12            2           \n"
     ]
    }
   ],
   "source": [
    "#Valores iniciales\n",
    "a=3\n",
    "b=2\n",
    "semilla=55468\n",
    "m=6\n",
    "inte=100\n",
    "\n",
    "iteraciones=[]\n",
    "\n",
    "\n",
    "for j in range(inte):\n",
    "    i=1\n",
    "    ui1=[]\n",
    "    xn=0\n",
    "    ui=0.0\n",
    "    aux=0\n",
    "    val= True\n",
    "    xn=semilla\n",
    "    while val:\n",
    "        aux=((a*xn)+b)%(m)\n",
    "        ui=aux/m\n",
    "        xn=aux\n",
    "        if (i==1):\n",
    "            ui1.append(ui)\n",
    "            i=i+1\n",
    "        else:\n",
    "            for x in range(0,len(ui1)):\n",
    "                if (ui1[x]==ui):\n",
    "                    iteraciones.append(i)\n",
    "                    Semilla=int(xn)\n",
    "                    a=a+1\n",
    "                    b=b+3\n",
    "                    m=m+1\n",
    "                    val=False\n",
    "            ui1.append(ui)\n",
    "            i=i+1\n",
    "\n",
    "\n",
    "#Calacular los repetidos\n",
    "aux=[]              \n",
    "repetido = []\n",
    "unico = []\n",
    "cont=[]\n",
    "print(iteraciones)\n",
    "def frecuencia(lista,valor):\n",
    "    aux=0\n",
    "    for i in valor:\n",
    "        for j in lista:\n",
    "            if i == j:\n",
    "                aux=aux+1\n",
    "        cont.append(aux)\n",
    "        aux=0\n",
    "    return cont\n",
    "\n",
    "\n",
    "for x in iteraciones:\n",
    "    del aux[:]\n",
    "    if x not in unico:\n",
    "        unico.append(x)\n",
    "    else:\n",
    "        if x not in repetido:\n",
    "            repetido.append(x)\n",
    "            \n",
    "fra=frecuencia(iteraciones,repetido)\n",
    "print('')\n",
    "print('----------- HISTOGRAMA -------------')\n",
    "print('')\n",
    "print('Repetidos:', repetido)\n",
    "\n",
    "plt.bar(range(len(repetido)), cont, edgecolor='red')\n",
    "plt.xticks(range(len(repetido)), repetido, rotation=60)\n",
    "plt.title(\"Cuadrados medios\")\n",
    "plt.ylim(min(cont)-0.5, max(cont)+0.5)\n",
    "plt.show()\n",
    "\n",
    "\n",
    "print('{:^3}{:^20}'.format('Numero','Frecuencia'))\n",
    "for repetido,cont in zip(repetido,cont):\n",
    "    print('{:^4}{:^23}'.format(repetido,cont))"
   ]
  },
  {
   "cell_type": "markdown",
   "metadata": {},
   "source": [
    "### Conclusiones\n",
    "\n",
    "* En conclusion podemos decir que los metodos aprendidos para la generacion de numeros pseudo aleatorios, es importante par entender como funcioan la generacion de dichos nuemros de esta manera seran de suma importnacia para aplicarlos en varios medios."
   ]
  },
  {
   "cell_type": "markdown",
   "metadata": {},
   "source": [
    "### Opiniones\n",
    "\n",
    "* Como opinion personal el aprender dichos metodos nos a servido para entender como son generados las diferentes numeros al momento de programar numeros aleatorios."
   ]
  },
  {
   "cell_type": "markdown",
   "metadata": {},
   "source": [
    "### Recomendaciones\n",
    "\n",
    "* Encontrar un semilla optima para poder generar los numeros ya que, si la semilla no es optima el resultado no sera bueno."
   ]
  }
 ],
 "metadata": {
  "kernelspec": {
   "display_name": "Python 3",
   "language": "python",
   "name": "python3"
  },
  "language_info": {
   "codemirror_mode": {
    "name": "ipython",
    "version": 3
   },
   "file_extension": ".py",
   "mimetype": "text/x-python",
   "name": "python",
   "nbconvert_exporter": "python",
   "pygments_lexer": "ipython3",
   "version": "3.8.2"
  }
 },
 "nbformat": 4,
 "nbformat_minor": 4
}
