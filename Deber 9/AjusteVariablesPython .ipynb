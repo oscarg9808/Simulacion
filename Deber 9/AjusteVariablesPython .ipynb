{
 "cells": [
  {
   "cell_type": "markdown",
   "metadata": {},
   "source": [
    "# Probabilidad y Estadística con Python"
   ]
  },
  {
   "cell_type": "markdown",
   "metadata": {},
   "source": [
    "## ¿Qué es la Estadística?\n",
    "\n",
    "La estadística suele ser definida como la ciencia de aprender de los datos o como la ciencia de obtener conclusiones en la presencia de incertidumbre. Se relaciona principalmente con la recolección, análisis e interpretación de datos, así como también con la efectiva comunicación y presentación de los resultados basados en esos datos. Como por datos entendemos a cualquier clase de información grabada, la estadística juego un rol importante en muchas disciplinas científicas.\n",
    "\n",
    "La estadística suele ser dividida en dos grandes ramas:\n",
    "\n",
    "La estadística descriptiva: La cual se dedica a recolectar, ordenar, analizar y representar a un conjunto de datos, con el fin de describir apropiadamente las características de este. Calcula los parámetros estadísticos que describen el conjunto estudiado. Algunas de las herramientas que utiliza son gráficos, medidas de frecuencias, medidas de centralización, medidas de posición, medidas de dispersión, entre otras.\n",
    "\n",
    "La estadistica inferencial: La cual estudia cómo sacar conclusiones generales para toda la población a partir del estudio de una muestra, y el grado de fiabilidad o significación de los resultados obtenidos. Sus principales herramientas son el muestreo, la estimación de parámetros y el contraste de hipótesis."
   ]
  },
  {
   "cell_type": "markdown",
   "metadata": {},
   "source": [
    "## Conceptos básicos de la estadística descriptiva\n",
    "\n",
    "En *[estadística descriptiva](https://es.wikipedia.org/wiki/Estad%C3%ADstica_descriptiva)* se utilizan distintas medidas para intentar describir las propiedades de nuestros datos, algunos de los conceptos básicos, son:\n",
    "\n",
    "* **Media aritmética**: La [media aritmética](https://es.wikipedia.org/wiki/Media_aritm%C3%A9tica) es el valor obtenido al sumar todos los *[datos](https://es.wikipedia.org/wiki/Dato)* y dividir el resultado entre el número total elementos. Se suele representar con la letra griega $\\mu$. Si tenemos una [muestra](https://es.wikipedia.org/wiki/Muestra_estad%C3%ADstica) de $n$ valores, $x_i$, la *media aritmética*, $\\mu$, es la suma de los valores divididos por el numero de elementos; en otras palabras:\n",
    "$$\\mu = \\frac{1}{n} \\sum_{i}x_i$$\n",
    "\n",
    "\n",
    "* **Desviación respecto a la media**: La desviación respecto a la media es la diferencia en valor absoluto entre cada valor de la variable estadística y la media aritmética.\n",
    "$$D_i = |x_i - \\mu|$$\n",
    "\n",
    "\n",
    "* **Varianza**: La [varianza](https://es.wikipedia.org/wiki/Varianza) es la media aritmética del cuadrado de las desviaciones respecto a la media de una distribución estadística. La varianza intenta describir la dispersión de los *[datos](https://es.wikipedia.org/wiki/Dato)*. Se representa como $\\sigma^2$. \n",
    "$$\\sigma^2 = \\frac{\\sum\\limits_{i=1}^n(x_i - \\mu)^2}{n} $$\n",
    "\n",
    "\n",
    "* **Desviación típica**: La [desviación típica](https://es.wikipedia.org/wiki/Desviaci%C3%B3n_t%C3%ADpica) es la raíz cuadrada de la varianza. Se representa con la letra griega $\\sigma$.\n",
    "$$\\sigma = \\sqrt{\\frac{\\sum\\limits_{i=1}^n(x_i - \\mu)^2}{n}} $$\n",
    "\n",
    "\n",
    "* **Moda**: La <a href=\"https://es.wikipedia.org/wiki/Moda_(estad%C3%ADstica)\">moda</a> es el valor que tiene mayor frecuencia absoluta. Se representa con $M_0$\n",
    "\n",
    "\n",
    "* **Mediana**: La <a href=\"https://es.wikipedia.org/wiki/Mediana_(estad%C3%ADstica)\">mediana</a> es el valor que ocupa el lugar central de todos los datos cuando éstos están ordenados de menor a mayor. Se representa con $\\widetilde{x}$.\n",
    "\n"
   ]
  },
  {
   "cell_type": "markdown",
   "metadata": {},
   "source": [
    "### Ejemplos en Python\n",
    "\n",
    "Calcular los principales indicadores de la *[estadística descriptiva](https://es.wikipedia.org/wiki/Estad%C3%ADstica_descriptiva)* con [Python](http://python.org/) es muy fácil!."
   ]
  },
  {
   "cell_type": "code",
   "execution_count": 3,
   "metadata": {},
   "outputs": [],
   "source": [
    "# Ejemplos de estadistica descriptiva con python\n",
    "\n",
    "import numpy as np # importando numpy\n",
    "from scipy import stats # importando scipy.stats\n",
    "import pandas as pd # importando pandas\n",
    "\n",
    "np.random.seed(2131982) # para poder replicar el random"
   ]
  },
  {
   "cell_type": "code",
   "execution_count": 2,
   "metadata": {},
   "outputs": [
    {
     "data": {
      "text/plain": [
       "array([[ 0.46038022, -1.08942528, -0.62681496, -0.63329028],\n",
       "       [-0.1074033 , -0.88138082, -0.34466623, -0.28320214],\n",
       "       [ 0.94051171,  0.86693793,  1.20947882, -0.16894118],\n",
       "       [-0.12790177, -0.58099931, -0.46188426, -0.18148302],\n",
       "       [-0.76959435, -1.37414587,  1.37696874, -0.18040537]])"
      ]
     },
     "execution_count": 2,
     "metadata": {},
     "output_type": "execute_result"
    }
   ],
   "source": [
    "datos = np.random.randn(5, 4) # datos normalmente distribuidos\n",
    "datos"
   ]
  },
  {
   "cell_type": "code",
   "execution_count": 3,
   "metadata": {},
   "outputs": [
    {
     "data": {
      "text/plain": [
       "-0.14786303590303568"
      ]
     },
     "execution_count": 3,
     "metadata": {},
     "output_type": "execute_result"
    }
   ],
   "source": [
    "# media arítmetica\n",
    "datos.mean() # Calcula la media aritmetica de"
   ]
  },
  {
   "cell_type": "code",
   "execution_count": 4,
   "metadata": {},
   "outputs": [
    {
     "data": {
      "text/plain": [
       "-0.14786303590303568"
      ]
     },
     "execution_count": 4,
     "metadata": {},
     "output_type": "execute_result"
    }
   ],
   "source": [
    "np.mean(datos) # Mismo resultado desde la funcion de numpy"
   ]
  },
  {
   "cell_type": "code",
   "execution_count": 5,
   "metadata": {},
   "outputs": [
    {
     "data": {
      "text/plain": [
       "array([-0.47228757, -0.40416312,  0.71199682, -0.33806709, -0.23679421])"
      ]
     },
     "execution_count": 5,
     "metadata": {},
     "output_type": "execute_result"
    }
   ],
   "source": [
    "datos.mean(axis=1) # media aritmetica de cada fila"
   ]
  },
  {
   "cell_type": "code",
   "execution_count": 6,
   "metadata": {},
   "outputs": [
    {
     "data": {
      "text/plain": [
       "array([ 0.0791985 , -0.61180267,  0.23061642, -0.2894644 ])"
      ]
     },
     "execution_count": 6,
     "metadata": {},
     "output_type": "execute_result"
    }
   ],
   "source": [
    "datos.mean(axis=0) # media aritmetica de cada columna"
   ]
  },
  {
   "cell_type": "code",
   "execution_count": 7,
   "metadata": {},
   "outputs": [
    {
     "data": {
      "text/plain": [
       "-0.23234258265023794"
      ]
     },
     "execution_count": 7,
     "metadata": {},
     "output_type": "execute_result"
    }
   ],
   "source": [
    "# mediana\n",
    "np.median(datos) "
   ]
  },
  {
   "cell_type": "code",
   "execution_count": 8,
   "metadata": {},
   "outputs": [
    {
     "data": {
      "text/plain": [
       "array([-0.1074033 , -0.88138082, -0.34466623, -0.18148302])"
      ]
     },
     "execution_count": 8,
     "metadata": {},
     "output_type": "execute_result"
    }
   ],
   "source": [
    "np.median(datos, 0) # media aritmetica de cada columna"
   ]
  },
  {
   "cell_type": "code",
   "execution_count": 9,
   "metadata": {},
   "outputs": [
    {
     "data": {
      "text/plain": [
       "0.73755354584071608"
      ]
     },
     "execution_count": 9,
     "metadata": {},
     "output_type": "execute_result"
    }
   ],
   "source": [
    " # Desviación típica\n",
    "np.std(datos)"
   ]
  },
  {
   "cell_type": "code",
   "execution_count": 10,
   "metadata": {},
   "outputs": [
    {
     "data": {
      "text/plain": [
       "array([ 0.58057213,  0.78352862,  0.87384108,  0.17682485])"
      ]
     },
     "execution_count": 10,
     "metadata": {},
     "output_type": "execute_result"
    }
   ],
   "source": [
    "np.std(datos, 0) # Desviación típica de cada columna"
   ]
  },
  {
   "cell_type": "code",
   "execution_count": 11,
   "metadata": {},
   "outputs": [
    {
     "data": {
      "text/plain": [
       "0.54398523298221324"
      ]
     },
     "execution_count": 11,
     "metadata": {},
     "output_type": "execute_result"
    }
   ],
   "source": [
    "# varianza\n",
    "np.var(datos) "
   ]
  },
  {
   "cell_type": "code",
   "execution_count": 12,
   "metadata": {},
   "outputs": [
    {
     "data": {
      "text/plain": [
       "array([ 0.337064  ,  0.6139171 ,  0.76359823,  0.03126703])"
      ]
     },
     "execution_count": 12,
     "metadata": {},
     "output_type": "execute_result"
    }
   ],
   "source": [
    "np.var(datos, 0) # varianza de cada columna"
   ]
  },
  {
   "cell_type": "code",
   "execution_count": 13,
   "metadata": {},
   "outputs": [
    {
     "data": {
      "text/plain": [
       "(array([[-0.76959435, -1.37414587, -0.62681496, -0.63329028]]),\n",
       " array([[ 1.,  1.,  1.,  1.]]))"
      ]
     },
     "execution_count": 13,
     "metadata": {},
     "output_type": "execute_result"
    }
   ],
   "source": [
    "# moda\n",
    "stats.mode(datos) # Calcula la moda de cada columna\n",
    "# el 2do array devuelve la frecuencia."
   ]
  },
  {
   "cell_type": "code",
   "execution_count": 4,
   "metadata": {},
   "outputs": [
    {
     "data": {
      "text/plain": [
       "ModeResult(mode=array([6]), count=array([5]))"
      ]
     },
     "execution_count": 4,
     "metadata": {},
     "output_type": "execute_result"
    }
   ],
   "source": [
    "datos2 = np.array([1, 2, 3, 6, 6, 1, 2, 4, 2, 2, 6, 6, 8, 10, 6])\n",
    "stats.mode(datos2) # aqui la moda es el 6 porque aparece 5 veces en el vector."
   ]
  },
  {
   "cell_type": "markdown",
   "metadata": {},
   "source": [
    "## Practica :\n",
    "Generar un modelo que me permita simular el uso de recursos de los hospitales por cada una de las provincias, para ello obtener la informacion revisada en la practica de investigacion y tomar como ejemplo la practica de simulacion de atencion de paciente del COVID revisada en clase. Lo que se busca es poder generar graficos de uso de recursos:\n",
    "\n",
    "- Costos (Generar un aproximacion de cuanto se invierte para atender a un paciente con COVID)\n",
    "- Personal (Aproximacion del uso del personal por paciente, o el hospital)\n",
    "- Camas\n",
    "- Equipos/Insumos medicos (Obtener una aproximacion del uso de equipos medicos)\n",
    "- Pacientes (Informacion obtenida desde el ministerio de salud - validar con el porcentual del tipo de paciente [ninio 10%, adulto 30%, riesgo 60%]) - Hospitalizacion 80%, Otros 20%\n",
    "\n",
    "\n",
    "Para ello deberan generar un modelo lo mas cercano a la realidad, y con ayuda de la estadistica descriptiva ajustar los valores. Es importante tener como datos de entrada el dia y el numero de pacientes.\n",
    "\n",
    "Finalmente validar el modelo con lo la realidad del pais (Investigar en  base al tema el uso de los recursos publicos )\n"
   ]
  },
  {
   "cell_type": "code",
   "execution_count": 17,
   "metadata": {},
   "outputs": [
    {
     "data": {
      "image/png": "[encoded data removed]",
      "text/plain": [
       "<Figure size 432x288 with 1 Axes>"
      ]
     },
     "metadata": {
      "needs_background": "light"
     },
     "output_type": "display_data"
    },
    {
     "data": {
      "image/png": "[encoded data removed]",
      "text/plain": [
       "<Figure size 432x288 with 1 Axes>"
      ]
     },
     "metadata": {
      "needs_background": "light"
     },
     "output_type": "display_data"
    },
    {
     "data": {
      "image/png": "[encoded data removed]",
      "text/plain": [
       "<Figure size 432x288 with 1 Axes>"
      ]
     },
     "metadata": {
      "needs_background": "light"
     },
     "output_type": "display_data"
    },
    {
     "data": {
      "image/png": "[encoded data removed]",
      "text/plain": [
       "<Figure size 432x288 with 1 Axes>"
      ]
     },
     "metadata": {
      "needs_background": "light"
     },
     "output_type": "display_data"
    },
    {
     "data": {
      "image/png": "[encoded data removed]",
      "text/plain": [
       "<Figure size 432x288 with 1 Axes>"
      ]
     },
     "metadata": {
      "needs_background": "light"
     },
     "output_type": "display_data"
    },
    {
     "name": "stdout",
     "output_type": "stream",
     "text": [
      "EL COSTO DE UN PACIENTE ES:   54550\n"
     ]
    }
   ],
   "source": [
    "import simpy\n",
    "import random\n",
    "import matplotlib.pyplot as pp\n",
    "import numpy as np\n",
    "\n",
    "%matplotlib inline\n",
    "\n",
    "\n",
    "CAMASHGSD = 73\n",
    "CAMASHIEESD = 100\n",
    "PERSONALHGSD = 25\n",
    "PERSONALHIEESD = 56\n",
    "EQUIPOSHGSD = 35 \n",
    "EQUIPOSIESSD = 64 \n",
    "INFECTADOS = 389\n",
    "CRECIMIENTO = 60\n",
    "DIAS_INTERNADO = 10\n",
    "DA_PERSONAL = 10\n",
    "D_EQUIPO = 6\n",
    "DIAS_SIMULACION = 25\n",
    "COSTO_ATENCION = 850\n",
    "\n",
    "\n",
    "RECUPERADOS={}\n",
    "FALLECIDOS={}\n",
    "MENORES_EDAD={}\n",
    "ADULTOS={}\n",
    "TERCERA_EDAD={}\n",
    "PACIENTES_E=[]\n",
    "PACIENTES_C=[]\n",
    "PACIENTES_P=[]\n",
    "\n",
    "class Hospital(object):\n",
    "    #constructor\n",
    "    def __init__(self, env, num_cama,num_personal,num_equipos, name):\n",
    "            self.env = env\n",
    "            self.num_cama = num_cama\n",
    "            self.num_personal=num_personal\n",
    "            self.num_equipos=num_equipos\n",
    "            self.camas = simpy.Resource(env, num_cama)\n",
    "            self.personal = simpy.Resource(env, num_personal)\n",
    "            self.equipos = simpy.Resource(env, num_equipos)\n",
    "            self.name = name\n",
    "            \n",
    "    def ingresar_paciente(self, paciente):\n",
    "        yield self.env.timeout(random.randint(DIAS_INTERNADO-5, DIAS_INTERNADO+5))\n",
    "\n",
    "    def uso_personal_paciente(self, paciente):\n",
    "        yield self.env.timeout(random.randint(DA_PERSONAL-3, DA_PERSONAL+3))\n",
    "        \n",
    "    def uso_equipo_paciente(self, paciente):\n",
    "        yield self.env.timeout(random.randint(D_EQUIPO-1, D_EQUIPO+1))\n",
    "       \n",
    "def llegada_paciente(env, hospital, paciente):\n",
    "    arrive = env.now\n",
    "    estado = random.randint(1,100)\n",
    "    if (estado <= 10 and estado > 0):\n",
    "        MENORES_EDAD[env.now] = MENORES_EDAD[env.now] + 1 if env.now in MENORES_EDAD else  1\n",
    "        \n",
    "        with hospital.camas.request() as cama:\n",
    "            dias_esperando = random.randint(1,3) #Numero de dias maximo que puede esperar sin ser asignado a una cama dentro del hospital\n",
    "            requerimiento = yield cama | env.timeout(dias_esperando) #Asignar un tiempo de espera\n",
    "            wait = env.now - arrive\n",
    "            if cama in requerimiento:\n",
    "                \n",
    "                yield env.process(hospital.ingresar_paciente(paciente))\n",
    "                arrive2 = env.now\n",
    "                PACIENTES_C.append(1)\n",
    "                with hospital.personal.request() as persona:\n",
    "                    dias_esperando_personal = random.randint(1,2)\n",
    "                    requerimiento2 = yield persona | env.timeout(dias_esperando_personal)\n",
    "                    wait2 = env.now - arrive2\n",
    "                    if persona in requerimiento2:\n",
    "                        \n",
    "                        yield env.process(hospital.uso_personal_paciente(paciente))\n",
    "                        arrive3 = env.now\n",
    "                        PACIENTES_P.append(1)\n",
    "                        with hospital.equipos.request() as equipo:\n",
    "                            dias_esperando_equipo = random.randint(1,2)\n",
    "                            requerimiento3 = yield equipo | env.timeout(dias_esperando_equipo)\n",
    "                            wait3 = env.now - arrive3\n",
    "                            if equipo in requerimiento3:\n",
    "                                \n",
    "                                yield env.process(hospital.uso_equipo_paciente(paciente))\n",
    "                                estado = random.randint(1,100)\n",
    "                                PACIENTES_E.append(1)\n",
    "                                if (estado < 8) :\n",
    "                                    FALLECIDOS[env.now] = FALLECIDOS[env.now] + 1 if env.now in FALLECIDOS else  1\n",
    "                                else:\n",
    "                                    RECUPERADOS[env.now] = RECUPERADOS[env.now] + 1 if env.now in RECUPERADOS else 1 \n",
    "                            else:\n",
    "                                \n",
    "                                FALLECIDOS[env.now] = FALLECIDOS[env.now] + 1 if env.now in FALLECIDOS else  1\n",
    "                        \n",
    "                    else:\n",
    "                       \n",
    "                        FALLECIDOS[env.now] = FALLECIDOS[env.now] + 1 if env.now in FALLECIDOS else  1\n",
    "                        \n",
    "            else:\n",
    "                \n",
    "                FALLECIDOS[env.now] = FALLECIDOS[env.now] + 1 if env.now in FALLECIDOS else  1        \n",
    "    \n",
    "    if (estado <= 30 and estado >= 11):\n",
    "        ADULTOS[env.now] = ADULTOS[env.now] + 1 if env.now in ADULTOS else  1\n",
    "        \n",
    "        with hospital.camas.request() as cama:\n",
    "            dias_esperando = random.randint(1,3) #Numero de dias maximo que puede esperar sin ser asignado a una cama dentro del hospital\n",
    "            requerimiento = yield cama | env.timeout(dias_esperando) #Asignar un tiempo de espera\n",
    "            wait = env.now - arrive\n",
    "            if cama in requerimiento:\n",
    "                \n",
    "                yield env.process(hospital.ingresar_paciente(paciente))\n",
    "                arrive2 = env.now\n",
    "                PACIENTES_C.append(1)\n",
    "                with hospital.personal.request() as persona:\n",
    "                    dias_esperando_personal = random.randint(1,2)\n",
    "                    requerimiento2 = yield persona | env.timeout(dias_esperando_personal)\n",
    "                    wait2 = env.now - arrive2\n",
    "                    if persona in requerimiento2:\n",
    "                        \n",
    "                        yield env.process(hospital.uso_personal_paciente(paciente))\n",
    "                        arrive3 = env.now\n",
    "                        PACIENTES_P.append(1)\n",
    "                        with hospital.equipos.request() as equipo:\n",
    "                            dias_esperando_equipo = random.randint(1,2)\n",
    "                            requerimiento3 = yield equipo | env.timeout(dias_esperando_equipo)\n",
    "                            wait3 = env.now - arrive3\n",
    "                            if equipo in requerimiento3:\n",
    "                                \n",
    "                                yield env.process(hospital.uso_equipo_paciente(paciente))\n",
    "                                estado = random.randint(1,100)\n",
    "                                PACIENTES_E.append(1)\n",
    "                                if (estado < 8) :\n",
    "                                    FALLECIDOS[env.now] = FALLECIDOS[env.now] + 1 if env.now in FALLECIDOS else  1\n",
    "                                else:\n",
    "                                    RECUPERADOS[env.now] = RECUPERADOS[env.now] + 1 if env.now in RECUPERADOS else 1 \n",
    "                            else:\n",
    "                                \n",
    "                                FALLECIDOS[env.now] = FALLECIDOS[env.now] + 1 if env.now in FALLECIDOS else  1\n",
    "                        \n",
    "                    else:\n",
    "                        \n",
    "                        FALLECIDOS[env.now] = FALLECIDOS[env.now] + 1 if env.now in FALLECIDOS else  1\n",
    "                        \n",
    "            else:\n",
    "                \n",
    "                FALLECIDOS[env.now] = FALLECIDOS[env.now] + 1 if env.now in FALLECIDOS else  1        \n",
    "\n",
    "        \n",
    "        \n",
    "        \n",
    "        \n",
    "    if (estado <= 100 and estado >= 31):\n",
    "        TERCERA_EDAD[env.now] = TERCERA_EDAD[env.now] + 1 if env.now in TERCERA_EDAD else  1\n",
    "        \n",
    "        with hospital.camas.request() as cama:\n",
    "            dias_esperando = random.randint(1,3) #Numero de dias maximo que puede esperar sin ser asignado a una cama dentro del hospital\n",
    "            requerimiento = yield cama | env.timeout(dias_esperando) #Asignar un tiempo de espera\n",
    "            wait = env.now - arrive\n",
    "            if cama in requerimiento:\n",
    "                \n",
    "                yield env.process(hospital.ingresar_paciente(paciente))\n",
    "                arrive2 = env.now\n",
    "                PACIENTES_C.append(1)\n",
    "                with hospital.personal.request() as persona:\n",
    "                    dias_esperando_personal = random.randint(1,2)\n",
    "                    requerimiento2 = yield persona | env.timeout(dias_esperando_personal)\n",
    "                    wait2 = env.now - arrive2\n",
    "                    if persona in requerimiento2:\n",
    "                        \n",
    "                        yield env.process(hospital.uso_personal_paciente(paciente))\n",
    "                        arrive3 = env.now\n",
    "                        PACIENTES_P.append(1)\n",
    "                        with hospital.equipos.request() as equipo:\n",
    "                            dias_esperando_equipo = random.randint(1,2)\n",
    "                            requerimiento3 = yield equipo | env.timeout(dias_esperando_equipo)\n",
    "                            wait3 = env.now - arrive3\n",
    "                            if equipo in requerimiento3:\n",
    "                               \n",
    "                                yield env.process(hospital.uso_equipo_paciente(paciente))\n",
    "                                estado = random.randint(1,100)\n",
    "                                PACIENTES_E.append(1)\n",
    "                                if (estado < 8) :\n",
    "                                    FALLECIDOS[env.now] = FALLECIDOS[env.now] + 1 if env.now in FALLECIDOS else  1\n",
    "                                else:\n",
    "                                    RECUPERADOS[env.now] = RECUPERADOS[env.now] + 1 if env.now in RECUPERADOS else 1 \n",
    "                            else:\n",
    "                                \n",
    "                                FALLECIDOS[env.now] = FALLECIDOS[env.now] + 1 if env.now in FALLECIDOS else  1\n",
    "                        \n",
    "                    else:\n",
    "                        \n",
    "                        FALLECIDOS[env.now] = FALLECIDOS[env.now] + 1 if env.now in FALLECIDOS else  1\n",
    "                        \n",
    "            else:\n",
    "                \n",
    "                FALLECIDOS[env.now] = FALLECIDOS[env.now] + 1 if env.now in FALLECIDOS else  1        \n",
    "\n",
    "        \n",
    "        \n",
    "def ejecutar(env, tasa_crecimiento, infectados):\n",
    "    HOSHGSD = Hospital(env, CAMASHGSD,PERSONALHGSD,EQUIPOSHGSD, \"A\")\n",
    "    HOSHIEESD = Hospital(env, CAMASHIEESD,PERSONALHIEESD,EQUIPOSIESSD, \"B\")\n",
    "    for i in range(infectados):\n",
    "        asignar_hospital(env, HOSHGSD, HOSHIEESD, i)\n",
    "    paciente = infectados\n",
    "    while True:\n",
    "        yield env.timeout(1)\n",
    "        for i in range(tasa_crecimiento):\n",
    "            paciente += 1\n",
    "            asignar_hospital(env, HOSHGSD, HOSHIEESD, paciente)\n",
    "                \n",
    "def asignar_hospital(env, HOSHGSD, HOSHIEESD, paciente):\n",
    "    hosp_esc = random.randint(1,2)\n",
    "    if (hosp_esc == 1):\n",
    "        \n",
    "        env.process(llegada_paciente(env, HOSHGSD, paciente))\n",
    "    else:\n",
    "        \n",
    "        env.process(llegada_paciente(env, HOSHIEESD, paciente))\n",
    "    \n",
    "\n",
    "env=simpy.Environment()\n",
    "env.process(ejecutar(env,CRECIMIENTO, INFECTADOS))\n",
    "env.run(until=DIAS_SIMULACION)\n",
    "\n",
    "\n",
    "\n",
    "datos=sorted(RECUPERADOS.items()) # Ordenamos los datos\n",
    "x, y =zip(*datos) # Obtener x(tiempo - clave) y el y(Numero de vehiculos atendidos - valor)\n",
    "pp.plot(x,y,linewidth=2,color='red') # Dibujamos las lineas\n",
    "pp.scatter(x,y,color='blue') # Dibujamos los puntos (x,y)\n",
    "pp.title(\"Dias\")\n",
    "pp.grid(True) # Generamos una cuadricula\n",
    "pp.show() # Mostramos el grafico\n",
    "\n",
    "if (FALLECIDOS):\n",
    "    datos=sorted(FALLECIDOS.items()) # Ordenamos los datos\n",
    "    x, y =zip(*datos) # Obtener x(tiempo - clave) y el y(Numero de vehiculos atendidos - valor)\n",
    "    pp.plot(x,y,linewidth=2,color='red') #Dibujamos las lineas\n",
    "    pp.scatter(x,y,color='blue') # Dibujamos los puntos (x,y)\n",
    "    pp.title(\"Fallecidos\")\n",
    "    pp.grid(True) #Generamos una cuadricula\n",
    "    pp.show() #Mostramos el grafico\n",
    "if (MENORES_EDAD):\n",
    "    datos=sorted(MENORES_EDAD.items()) # Ordenamos los datos\n",
    "    x, y =zip(*datos) # Obtener x(tiempo - clave) y el y(Numero de vehiculos atendidos - valor)\n",
    "    pp.plot(x,y,linewidth=2,color='red') #Dibujamos las lineas\n",
    "    pp.scatter(x,y,color='blue') # Dibujamos los puntos (x,y)\n",
    "    pp.title(\"MENORES_EDAD\")\n",
    "    pp.grid(True) #Generamos una cuadricula\n",
    "    pp.show() #Mostramos el grafico\n",
    "if (ADULTOS):\n",
    "    datos=sorted(ADULTOS.items()) # Ordenamos los datos\n",
    "    x, y =zip(*datos) # Obtener x(tiempo - clave) y el y(Numero de vehiculos atendidos - valor)\n",
    "    pp.plot(x,y,linewidth=2,color='red') #Dibujamos las lineas\n",
    "    pp.scatter(x,y,color='blue') # Dibujamos los puntos (x,y)\n",
    "    pp.title(\"ADULTOS\")\n",
    "    pp.grid(True) #Generamos una cuadricula\n",
    "    pp.show() #Mostramos el grafico\n",
    "if (TERCERA_EDAD):\n",
    "    datos=sorted(TERCERA_EDAD.items()) # Ordenamos los datos\n",
    "    x, y =zip(*datos) # Obtener x(tiempo - clave) y el y(Numero de vehiculos atendidos - valor)\n",
    "    pp.plot(x,y,linewidth=2,color='red') #Dibujamos las lineas\n",
    "    pp.scatter(x,y,color='blue') # Dibujamos los puntos (x,y)\n",
    "    pp.title(\"TERCERA_EDAD \")\n",
    "    pp.grid(True) #Generamos una cuadricula\n",
    "    pp.show() #Mostramos el grafico\n",
    "\n",
    "COSTOC=(sum(PACIENTES_C)*(COSTO_ATENCION-900))\n",
    "COSTOP=(sum(PACIENTES_P)*(COSTO_ATENCION-500))\n",
    "COSTOE=(sum(PACIENTES_E)*(COSTO_ATENCION))\n",
    "TOTAL=(COSTOC+COSTOP+COSTOE)\n",
    "print(\"EL COSTO DE UN PACIENTE ES:  \",TOTAL)"
   ]
  },
  {
   "cell_type": "markdown",
   "metadata": {},
   "source": [
    "## Conclusiones\n",
    "\n",
    "* En conclusión podemos decir que gracias a  simulación tenemos un aproximado de cómo funciona y el costo que se va a utilizar en costos de atención.\n",
    "\n",
    "## Recomendaciones\n",
    "\n",
    "* Averiguar bien los datos los cuales servirán para tener un buen resultado de la simulación que se va a presentar.\n",
    "\n",
    "## Opiniones\n",
    "\n",
    "* El ministerio de salud del Ecuador no provee los datos, para esta ocasión se tuvo que averiguar por otras fuentes, esto deja mucho de que decir."
   ]
  },
  {
   "cell_type": "code",
   "execution_count": null,
   "metadata": {},
   "outputs": [],
   "source": []
  }
 ],
 "metadata": {
  "kernelspec": {
   "display_name": "Python 3",
   "language": "python",
   "name": "python3"
  },
  "language_info": {
   "codemirror_mode": {
    "name": "ipython",
    "version": 3
   },
   "file_extension": ".py",
   "mimetype": "text/x-python",
   "name": "python",
   "nbconvert_exporter": "python",
   "pygments_lexer": "ipython3",
   "version": "3.8.2"
  }
 },
 "nbformat": 4,
 "nbformat_minor": 1
}
