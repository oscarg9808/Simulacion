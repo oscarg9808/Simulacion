{
 "cells": [
  {
   "cell_type": "markdown",
   "metadata": {},
   "source": [
    "# Deber 2\n",
    "\n",
    "Autor: Oscar Pizarro"
   ]
  },
  {
   "cell_type": "markdown",
   "metadata": {},
   "source": [
    "## Tarea"
   ]
  },
  {
   "cell_type": "markdown",
   "metadata": {},
   "source": [
    "Generar dos numeros pseudoaleatorios del 1-6 (los dados), utilziando dos librerias, sumar y generar lo siguiente:\n",
    "\n",
    "        * Suma\n",
    "        * Frecuencia\n",
    "        * Probabilidad"
   ]
  },
  {
   "cell_type": "markdown",
   "metadata": {},
   "source": [
    "### libreria random"
   ]
  },
  {
   "cell_type": "code",
   "execution_count": 102,
   "metadata": {},
   "outputs": [
    {
     "name": "stdout",
     "output_type": "stream",
     "text": [
      "********** PROBABILIDAD DE DADOS **********\n",
      "1=Cien    2=Mil   3=Diez mil\n",
      "Escoja una opcion 1\n",
      "\n",
      "----------- CIEN NUMEORS ----------\n",
      "\n",
      "SUMA     FRECUENCIA      PROBABILIDAD  \n",
      " 2          2               0.02      \n",
      " 3          7               0.07      \n",
      " 4          11              0.11      \n",
      " 5          8               0.08      \n",
      " 6          13              0.13      \n",
      " 7          19              0.19      \n",
      " 8          9               0.09      \n",
      " 9          11              0.11      \n",
      "10          7               0.07      \n",
      "11          9               0.09      \n",
      "12          4               0.04      \n"
     ]
    }
   ],
   "source": [
    "#!/usr/bin/env python\n",
    "# -*- coding: utf-8 -*-\n",
    "# \n",
    "#  format.py\n",
    "#\n",
    "import random\n",
    "\n",
    "def suma(rango):\n",
    "    lsuma=[]\n",
    "    suma=0\n",
    "    for i in range(rango):\n",
    "        n1= random.randint(1,6)\n",
    "        n2= random.randint(1,6)\n",
    "        suma= n1+n2\n",
    "        lsuma.append(suma)\n",
    "    return lsuma\n",
    "\n",
    "def probabilidad(f):\n",
    "    p=0\n",
    "    pro=[]\n",
    "    for i in f:\n",
    "        p=i / 100\n",
    "        pro.append(p)\n",
    "    return pro\n",
    "    \n",
    "def frecuencia(lista,valor):\n",
    "    cont=[]\n",
    "    aux=0\n",
    "    for i in valor:\n",
    "        for j in lista:\n",
    "            if i == j:\n",
    "                aux=aux+1 \n",
    "        cont.append(aux)\n",
    "        aux=0\n",
    "    return cont\n",
    "\n",
    "def cien():\n",
    "    valor=[2,3,4,5,6,7,8,9,10,11,12]\n",
    "    sum=suma(100)\n",
    "    fra=frecuencia(sum,valor)\n",
    "    pro=probabilidad(fra)\n",
    "    print()\n",
    "    print(\"----------- CIEN NUMEORS ----------\")\n",
    "    print()\n",
    "    #print(\"******* Suma ***********************************\")\n",
    "    #print(valor)\n",
    "    #print(\"******** Frecuencia ****************************\")\n",
    "    #print(fra)\n",
    "    #print(\"******** Probabilidad **************************\")\n",
    "    #print (pro)\n",
    "    \n",
    "    print('{:^3}{:^20}{:^15}'.format('SUMA','FRECUENCIA', 'PROBABILIDAD'))\n",
    "    for valor,fra,pro in zip(valor,fra,pro):\n",
    "        print('{:^3}{:^20}{:^15}'.format(valor,fra,pro))\n",
    "    \n",
    "    \n",
    "    \n",
    "def mil():\n",
    "    print()\n",
    "    print(\"--------- MIL NUMEORS ---------\")\n",
    "    print()\n",
    "    valor=[2,3,4,5,6,7,8,9,10,11,12]\n",
    "    sum=suma(1000)\n",
    "    fra=frecuencia(sum,valor)\n",
    "    pro=probabilidad(fra)\n",
    "    print('{:^3}{:^20}{:^15}'.format('SUMA','FRECUENCIA', 'PROBABILIDAD'))\n",
    "    for valor,fra,pro in zip(valor,fra,pro):\n",
    "        print('{:^3}{:^20}{:^15}'.format(valor,fra,pro))\n",
    "\n",
    "def diezmil():\n",
    "    print()\n",
    "    print(\"--------- DIEZ NUMEORS ---------\")\n",
    "    print()\n",
    "    valor=[2,3,4,5,6,7,8,9,10,11,12]\n",
    "    sum=suma(10000)\n",
    "    fra=frecuencia(sum,valor)\n",
    "    pro=probabilidad(fra)\n",
    "    print('{:^3}{:^20}{:^15}'.format('SUMA','FRECUENCIA', 'PROBABILIDAD'))\n",
    "    for valor,fra,pro in zip(valor,fra,pro):\n",
    "        print('{:^3}{:^20}{:^15}'.format(valor,fra,pro))\n",
    "def vacio():\n",
    "     print(\"La opcion que escogio no existe.\")     \n",
    "\n",
    "\n",
    "print (\"********** PROBABILIDAD DE DADOS **********\")\n",
    "print(\"1=Cien    2=Mil   3=Diez mil\")\n",
    "opcion = int(input(\"Escoja una opcion: \"))\n",
    "menu= {1: cien, 2: mil, 3:diezmil }\n",
    "menu.get(opcion,vacio)()\n"
   ]
  },
  {
   "cell_type": "markdown",
   "metadata": {},
   "source": [
    "### libreria rdn"
   ]
  },
  {
   "cell_type": "code",
   "execution_count": null,
   "metadata": {},
   "outputs": [],
   "source": []
  }
 ],
 "metadata": {
  "kernelspec": {
   "display_name": "Python 3",
   "language": "python",
   "name": "python3"
  },
  "language_info": {
   "codemirror_mode": {
    "name": "ipython",
    "version": 3
   },
   "file_extension": ".py",
   "mimetype": "text/x-python",
   "name": "python",
   "nbconvert_exporter": "python",
   "pygments_lexer": "ipython3",
   "version": "3.7.7"
  }
 },
 "nbformat": 4,
 "nbformat_minor": 4
}
